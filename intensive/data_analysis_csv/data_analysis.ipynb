{
 "cells": [
  {
   "cell_type": "markdown",
   "metadata": {
    "toc": true
   },
   "source": [
    "<h1>Table of Contents<span class=\"tocSkip\"></span></h1>\n",
    "<div class=\"toc\"><ul class=\"toc-item\"><li><span><a href=\"#Data-Analysis-with-CSVs\" data-toc-modified-id=\"Data-Analysis-with-CSVs-1\"><span class=\"toc-item-num\">1&nbsp;&nbsp;</span>Data Analysis with CSVs</a></span></li><li><span><a href=\"#Objectives\" data-toc-modified-id=\"Objectives-2\"><span class=\"toc-item-num\">2&nbsp;&nbsp;</span>Objectives</a></span></li><li><span><a href=\"#Loading-a-CSV\" data-toc-modified-id=\"Loading-a-CSV-3\"><span class=\"toc-item-num\">3&nbsp;&nbsp;</span>Loading a CSV</a></span><ul class=\"toc-item\"><li><span><a href=\"#Get-the-File-Path\" data-toc-modified-id=\"Get-the-File-Path-3.1\"><span class=\"toc-item-num\">3.1&nbsp;&nbsp;</span>Get the File Path</a></span></li><li><span><a href=\"#Inspecting-CSV-files\" data-toc-modified-id=\"Inspecting-CSV-files-3.2\"><span class=\"toc-item-num\">3.2&nbsp;&nbsp;</span>Inspecting CSV files</a></span><ul class=\"toc-item\"><li><span><a href=\"#Printing-Lines-in-Python\" data-toc-modified-id=\"Printing-Lines-in-Python-3.2.1\"><span class=\"toc-item-num\">3.2.1&nbsp;&nbsp;</span>Printing Lines in Python</a></span></li><li><span><a href=\"#Printing-Lines-in-bash\" data-toc-modified-id=\"Printing-Lines-in-bash-3.2.2\"><span class=\"toc-item-num\">3.2.2&nbsp;&nbsp;</span>Printing Lines in bash</a></span></li><li><span><a href=\"#Discussion\" data-toc-modified-id=\"Discussion-3.2.3\"><span class=\"toc-item-num\">3.2.3&nbsp;&nbsp;</span>Discussion</a></span></li></ul></li><li><span><a href=\"#Using-the-csv-library\" data-toc-modified-id=\"Using-the-csv-library-3.3\"><span class=\"toc-item-num\">3.3&nbsp;&nbsp;</span>Using the <code>csv</code> library</a></span></li></ul></li><li><span><a href=\"#Data-Preparation\" data-toc-modified-id=\"Data-Preparation-4\"><span class=\"toc-item-num\">4&nbsp;&nbsp;</span>Data Preparation</a></span><ul class=\"toc-item\"><li><span><a href=\"#Clean-the-Sale-Prices\" data-toc-modified-id=\"Clean-the-Sale-Prices-4.1\"><span class=\"toc-item-num\">4.1&nbsp;&nbsp;</span>Clean the Sale Prices</a></span></li><li><span><a href=\"#Clean-the-Dates\" data-toc-modified-id=\"Clean-the-Dates-4.2\"><span class=\"toc-item-num\">4.2&nbsp;&nbsp;</span>Clean the Dates</a></span><ul class=\"toc-item\"><li><span><a href=\"#Using-Python-built-in-methods\" data-toc-modified-id=\"Using-Python-built-in-methods-4.2.1\"><span class=\"toc-item-num\">4.2.1&nbsp;&nbsp;</span>Using Python built-in methods</a></span></li></ul></li></ul></li><li><span><a href=\"#Data-Analysis\" data-toc-modified-id=\"Data-Analysis-5\"><span class=\"toc-item-num\">5&nbsp;&nbsp;</span>Data Analysis</a></span><ul class=\"toc-item\"><li><span><a href=\"#Question-1:-What-is-the-range-of-years-for-which-we-have-sales-data?\" data-toc-modified-id=\"Question-1:-What-is-the-range-of-years-for-which-we-have-sales-data?-5.1\"><span class=\"toc-item-num\">5.1&nbsp;&nbsp;</span>Question 1: What is the range of years for which we have sales data?</a></span></li><li><span><a href=\"#Question-2:-How-many-properties-sold-in-2020?\" data-toc-modified-id=\"Question-2:-How-many-properties-sold-in-2020?-5.2\"><span class=\"toc-item-num\">5.2&nbsp;&nbsp;</span>Question 2: How many properties sold in 2020?</a></span></li><li><span><a href=\"#Question-3:-What-was-the-mean-sale-price-in-2020?\" data-toc-modified-id=\"Question-3:-What-was-the-mean-sale-price-in-2020?-5.3\"><span class=\"toc-item-num\">5.3&nbsp;&nbsp;</span>Question 3: What was the mean sale price in 2020?</a></span></li><li><span><a href=\"#Question-4:-How-many-properties-sold-in-each-year?\" data-toc-modified-id=\"Question-4:-How-many-properties-sold-in-each-year?-5.4\"><span class=\"toc-item-num\">5.4&nbsp;&nbsp;</span>Question 4: How many properties sold in each year?</a></span></li></ul></li><li><span><a href=\"#Chart-the-Data\" data-toc-modified-id=\"Chart-the-Data-6\"><span class=\"toc-item-num\">6&nbsp;&nbsp;</span>Chart the Data</a></span></li><li><span><a href=\"#Level-Up:-Counter\" data-toc-modified-id=\"Level-Up:-Counter-7\"><span class=\"toc-item-num\">7&nbsp;&nbsp;</span>Level Up: <code>Counter</code></a></span></li><li><span><a href=\"#Level-Up:-Using-datetime\" data-toc-modified-id=\"Level-Up:-Using-datetime-8\"><span class=\"toc-item-num\">8&nbsp;&nbsp;</span>Level Up: Using <code>datetime</code></a></span></li></ul></div>"
   ]
  },
  {
   "cell_type": "markdown",
   "metadata": {},
   "source": [
    "# Data Analysis with CSVs\n",
    "\n",
    "In this lesson, we'll complete a full data analysis with a raw data file. Comma Separated Values files, known as CSVs, are one of the most common file formats for storing tabular data. In this lesson, we'll show you how to load one into memory and work with it using Python."
   ]
  },
  {
   "cell_type": "markdown",
   "metadata": {},
   "source": [
    "# Objectives\n",
    "\n",
    "Perform a complete data analysis by...\n",
    "\n",
    "- Creating a Python data structure from a .csv file\n",
    "- Exploring and cleaning the data \n",
    "- Conducting descriptive analysis\n",
    "- Visualizing the results"
   ]
  },
  {
   "cell_type": "markdown",
   "metadata": {},
   "source": [
    "# Loading a CSV\n",
    "\n",
    "The before you can work with a CSV file, you need to load it into memory."
   ]
  },
  {
   "cell_type": "markdown",
   "metadata": {},
   "source": [
    "## Get the File Path\n",
    "\n",
    "Make sure you have the path to your data file. For this example, it is in the root folder of this repository."
   ]
  },
  {
   "cell_type": "code",
   "execution_count": 2,
   "metadata": {
    "scrolled": true
   },
   "outputs": [
    {
     "name": "stdout",
     "output_type": "stream",
     "text": [
      "Kings_County_Real_Estate_Sales.csv\n",
      "LICENSE\n",
      "README.md\n",
      "data_analysis.ipynb\n"
     ]
    }
   ],
   "source": [
    "# This will only work on Mac, Linux, or a separate bash terminal in Windows\n",
    "\n",
    "!ls"
   ]
  },
  {
   "cell_type": "markdown",
   "metadata": {},
   "source": [
    "We use `.` to indicate the root folder of the repository when working within this notebook."
   ]
  },
  {
   "cell_type": "code",
<<<<<<< HEAD
   "execution_count": 4,
=======
   "execution_count": 3,
>>>>>>> 89dfd5a306e714ce998d1a3a39c3e6d8fa62c56f
   "metadata": {},
   "outputs": [],
   "source": [
    "# here we simply assign the path to the data file as a string to a variable for ease of use later when we open/load the data.\n",
    "csv_file_path = \"./Kings_County_Real_Estate_Sales.csv\""
   ]
  },
  {
   "cell_type": "markdown",
   "metadata": {},
   "source": [
    "## Inspecting CSV files\n",
    "\n",
    "In a CSV file, each line represents one row of tabular data, and consecutive values in that row are separated by a comma. Often, the first row contains the column names separated by commas, also known as field names. Let's confirm that this is the case and learn about our dataset by printing the first two lines of the file."
   ]
  },
  {
   "cell_type": "markdown",
   "metadata": {},
   "source": [
    "### Printing Lines in Python\n",
    "\n",
    "We use the `with open()` syntax to easily open and read the file in the notebook. Using this syntax will automatically close the file once the statement is done running."
   ]
  },
  {
   "cell_type": "code",
<<<<<<< HEAD
   "execution_count": 6,
=======
   "execution_count": 4,
>>>>>>> 89dfd5a306e714ce998d1a3a39c3e6d8fa62c56f
   "metadata": {},
   "outputs": [
    {
     "name": "stdout",
     "output_type": "stream",
     "text": [
      "ExciseTaxNbr,Major,Minor,DocumentDate,SalePrice,RecordingNbr,Volume,Page,PlatNbr,PlatType,PlatLot,PlatBlock,SellerName,BuyerName,PropertyType,PrincipalUse,SaleInstrument,AFForestLand,AFCurrentUseLand,AFNonProfitUse,AFHistoricProperty,SaleReason,PropertyClass,SaleWarning\n",
      "\n"
     ]
    }
   ],
   "source": [
    "# This code prints the first line of the CSV file\n",
    "\n",
    "with open(csv_file_path) as csvfile:     # this process here is known as a 'context manager'. A software engineering tool used to make a temporary connection to a data file, \n",
    "    print(csvfile.readline())            # extract the data and then immediately close that connection -> this saves the computer RAM memory."
   ]
  },
  {
   "cell_type": "markdown",
   "metadata": {},
   "source": [
    "Next, we can print the second line to look at an example of one observation from our dataset. This represents one real estate sale in Kings County."
   ]
  },
  {
   "cell_type": "code",
<<<<<<< HEAD
   "execution_count": 7,
=======
   "execution_count": 5,
>>>>>>> 89dfd5a306e714ce998d1a3a39c3e6d8fa62c56f
   "metadata": {},
   "outputs": [
    {
     "name": "stdout",
     "output_type": "stream",
     "text": [
      "2687551,138860,110,08/21/2014,245000,20140828001436,   ,   ,      , ,              ,       ,WENKLE NOEL SMITH -TRUSTEE                        ,ALEXANDER APRIL                                   ,3,6,3,N,N,N,N,1,8, \n",
      "\n"
     ]
    }
   ],
   "source": [
    "# This code prints the second line of the CSV file\n",
    "\n",
    "with open(csv_file_path) as csvfile:\n",
    "    csvfile.readline()\n",
    "    print(csvfile.readline())"
   ]
  },
  {
   "cell_type": "markdown",
   "metadata": {},
   "source": [
    "### Printing Lines in bash\n",
    "\n",
    "Alternatively, you could use a bash command to print the first two lines."
   ]
  },
  {
   "cell_type": "code",
<<<<<<< HEAD
   "execution_count": 11,
=======
   "execution_count": 6,
>>>>>>> 89dfd5a306e714ce998d1a3a39c3e6d8fa62c56f
   "metadata": {
    "scrolled": true
   },
   "outputs": [
    {
     "name": "stdout",
     "output_type": "stream",
     "text": [
      "ExciseTaxNbr,Major,Minor,DocumentDate,SalePrice,RecordingNbr,Volume,Page,PlatNbr,PlatType,PlatLot,PlatBlock,SellerName,BuyerName,PropertyType,PrincipalUse,SaleInstrument,AFForestLand,AFCurrentUseLand,AFNonProfitUse,AFHistoricProperty,SaleReason,PropertyClass,SaleWarning\n",
      "2687551,138860,110,08/21/2014,245000,20140828001436,   ,   ,      , ,              ,       ,WENKLE NOEL SMITH -TRUSTEE                        ,ALEXANDER APRIL                                   ,3,6,3,N,N,N,N,1,8, \n"
     ]
    }
   ],
   "source": [
    "# This will only work on Mac, Linux, or a separate bash terminal in Windows\n",
    "\n",
    "!head -n 2 ./Kings_County_Real_Estate_Sales.csv"
   ]
  },
  {
   "cell_type": "markdown",
   "metadata": {},
   "source": [
    "### Discussion\n",
    "\n",
    "Based on these two lines, what can we infer about the contents of the data file? What questions arise for you about the data?"
   ]
  },
  {
   "cell_type": "markdown",
   "metadata": {},
   "source": [
    "## Using the `csv` library\n",
    "\n",
    "The [`csv` library](https://docs.python.org/3/library/csv.html) lets us easily process data in CSV files. We will use it to read each row in the `.csv` file and store its information in a Python object we can use for further analysis. "
   ]
  },
  {
   "cell_type": "code",
<<<<<<< HEAD
   "execution_count": 13,
=======
   "execution_count": 7,
>>>>>>> 89dfd5a306e714ce998d1a3a39c3e6d8fa62c56f
   "metadata": {},
   "outputs": [],
   "source": [
    "import csv"
   ]
  },
  {
   "cell_type": "markdown",
   "metadata": {},
   "source": [
    "The [`csv.DictReader`](https://docs.python.org/3/library/csv.html#csv.DictReader) object is a file reader, reading each row and then converting it to a special kind of dictionary called an [OrderedDict](https://docs.python.org/3/library/collections.html#collections.OrderedDict). By default, it turns each row into a dictionary, using the field names from the first row as the keys."
   ]
  },
  {
   "cell_type": "code",
<<<<<<< HEAD
   "execution_count": 20,
=======
   "execution_count": 8,
>>>>>>> 89dfd5a306e714ce998d1a3a39c3e6d8fa62c56f
   "metadata": {},
   "outputs": [
    {
     "name": "stdout",
     "output_type": "stream",
     "text": [
      "{'ExciseTaxNbr': '2687551', 'Major': '138860', 'Minor': '110', 'DocumentDate': '08/21/2014', 'SalePrice': '245000', 'RecordingNbr': '20140828001436', 'Volume': '   ', 'Page': '   ', 'PlatNbr': '      ', 'PlatType': ' ', 'PlatLot': '              ', 'PlatBlock': '       ', 'SellerName': 'WENKLE NOEL SMITH -TRUSTEE                        ', 'BuyerName': 'ALEXANDER APRIL                                   ', 'PropertyType': '3', 'PrincipalUse': '6', 'SaleInstrument': '3', 'AFForestLand': 'N', 'AFCurrentUseLand': 'N', 'AFNonProfitUse': 'N', 'AFHistoricProperty': 'N', 'SaleReason': '1', 'PropertyClass': '8', 'SaleWarning': ' '}\n"
     ]
    }
   ],
   "source": [
    "# Print OrderedDict from first row of CSV file \n",
    "\n",
    "with open(csv_file_path) as csvfile:\n",
    "    reader = csv.DictReader(csvfile)\n",
    "    print(next(reader))"
   ]
  },
  {
   "cell_type": "markdown",
   "metadata": {},
   "source": [
    "Let's get all of the data out of our file and into dictionaries, and store those dictionaries in a new list called `sales`."
   ]
  },
  {
   "cell_type": "code",
<<<<<<< HEAD
   "execution_count": 21,
=======
   "execution_count": 11,
>>>>>>> 89dfd5a306e714ce998d1a3a39c3e6d8fa62c56f
   "metadata": {},
   "outputs": [],
   "source": [
    "sales = []\n",
    "\n",
    "with open(csv_file_path) as csvfile:\n",
    "    reader = csv.DictReader(csvfile)\n",
    "    for row in reader:\n",
    "        sales.append(row)"
   ]
  },
  {
   "cell_type": "code",
<<<<<<< HEAD
   "execution_count": 23,
=======
   "execution_count": 12,
>>>>>>> 89dfd5a306e714ce998d1a3a39c3e6d8fa62c56f
   "metadata": {},
   "outputs": [
    {
     "data": {
      "text/plain": [
       "[{'ExciseTaxNbr': '2687551',\n",
       "  'Major': '138860',\n",
       "  'Minor': '110',\n",
       "  'DocumentDate': '08/21/2014',\n",
       "  'SalePrice': '245000',\n",
       "  'RecordingNbr': '20140828001436',\n",
       "  'Volume': '   ',\n",
       "  'Page': '   ',\n",
       "  'PlatNbr': '      ',\n",
       "  'PlatType': ' ',\n",
       "  'PlatLot': '              ',\n",
       "  'PlatBlock': '       ',\n",
       "  'SellerName': 'WENKLE NOEL SMITH -TRUSTEE                        ',\n",
       "  'BuyerName': 'ALEXANDER APRIL                                   ',\n",
       "  'PropertyType': '3',\n",
       "  'PrincipalUse': '6',\n",
       "  'SaleInstrument': '3',\n",
       "  'AFForestLand': 'N',\n",
       "  'AFCurrentUseLand': 'N',\n",
       "  'AFNonProfitUse': 'N',\n",
       "  'AFHistoricProperty': 'N',\n",
       "  'SaleReason': '1',\n",
       "  'PropertyClass': '8',\n",
       "  'SaleWarning': ' '},\n",
       " {'ExciseTaxNbr': '3080093',\n",
       "  'Major': '82204',\n",
       "  'Minor': '9037',\n",
       "  'DocumentDate': '10/27/2020',\n",
       "  'SalePrice': '0',\n",
       "  'RecordingNbr': '20201102000765',\n",
       "  'Volume': '   ',\n",
       "  'Page': '   ',\n",
       "  'PlatNbr': '      ',\n",
       "  'PlatType': ' ',\n",
       "  'PlatLot': '              ',\n",
       "  'PlatBlock': '       ',\n",
       "  'SellerName': 'BALA RAJNI                                        ',\n",
       "  'BuyerName': 'SINGH JOGA+BALA RAJNI                             ',\n",
       "  'PropertyType': '11',\n",
       "  'PrincipalUse': '6',\n",
       "  'SaleInstrument': '15',\n",
       "  'AFForestLand': 'N',\n",
       "  'AFCurrentUseLand': 'N',\n",
       "  'AFNonProfitUse': 'N',\n",
       "  'AFHistoricProperty': 'N',\n",
       "  'SaleReason': '18',\n",
       "  'PropertyClass': '8',\n",
       "  'SaleWarning': '18 51'},\n",
       " {'ExciseTaxNbr': '1235111',\n",
       "  'Major': '664885',\n",
       "  'Minor': '40',\n",
       "  'DocumentDate': '07/09/1991',\n",
       "  'SalePrice': '0',\n",
       "  'RecordingNbr': '199203161090  ',\n",
       "  'Volume': '071',\n",
       "  'Page': '001',\n",
       "  'PlatNbr': '664885',\n",
       "  'PlatType': 'C',\n",
       "  'PlatLot': 'B102          ',\n",
       "  'PlatBlock': '       ',\n",
       "  'SellerName': 'HERRMAN JEFFREY A+PAULINE A                       ',\n",
       "  'BuyerName': 'HERRMAN PAULINE A TTEE                            ',\n",
       "  'PropertyType': '3',\n",
       "  'PrincipalUse': '0',\n",
       "  'SaleInstrument': '26',\n",
       "  'AFForestLand': 'N',\n",
       "  'AFCurrentUseLand': 'N',\n",
       "  'AFNonProfitUse': 'N',\n",
       "  'AFHistoricProperty': 'N',\n",
       "  'SaleReason': '18',\n",
       "  'PropertyClass': '3',\n",
       "  'SaleWarning': '11'}]"
      ]
     },
<<<<<<< HEAD
     "execution_count": 23,
=======
     "execution_count": 12,
>>>>>>> 89dfd5a306e714ce998d1a3a39c3e6d8fa62c56f
     "metadata": {},
     "output_type": "execute_result"
    }
   ],
   "source": [
    "sales[0:3]"
   ]
  },
  {
   "cell_type": "markdown",
   "metadata": {},
   "source": [
    "# Data Preparation\n",
    "\n",
    "Now that we've gotten all of our data into a Python object, we can prepare it for analysis. Let's look at a sample observation and consider how we might want to process it to make it easier to analyze."
   ]
  },
  {
   "cell_type": "code",
<<<<<<< HEAD
   "execution_count": 24,
=======
   "execution_count": 13,
>>>>>>> 89dfd5a306e714ce998d1a3a39c3e6d8fa62c56f
   "metadata": {},
   "outputs": [
    {
     "data": {
      "text/plain": [
       "{'ExciseTaxNbr': '2687551',\n",
       " 'Major': '138860',\n",
       " 'Minor': '110',\n",
       " 'DocumentDate': '08/21/2014',\n",
       " 'SalePrice': '245000',\n",
       " 'RecordingNbr': '20140828001436',\n",
       " 'Volume': '   ',\n",
       " 'Page': '   ',\n",
       " 'PlatNbr': '      ',\n",
       " 'PlatType': ' ',\n",
       " 'PlatLot': '              ',\n",
       " 'PlatBlock': '       ',\n",
       " 'SellerName': 'WENKLE NOEL SMITH -TRUSTEE                        ',\n",
       " 'BuyerName': 'ALEXANDER APRIL                                   ',\n",
       " 'PropertyType': '3',\n",
       " 'PrincipalUse': '6',\n",
       " 'SaleInstrument': '3',\n",
       " 'AFForestLand': 'N',\n",
       " 'AFCurrentUseLand': 'N',\n",
       " 'AFNonProfitUse': 'N',\n",
       " 'AFHistoricProperty': 'N',\n",
       " 'SaleReason': '1',\n",
       " 'PropertyClass': '8',\n",
       " 'SaleWarning': ' '}"
      ]
     },
<<<<<<< HEAD
     "execution_count": 24,
=======
     "execution_count": 13,
>>>>>>> 89dfd5a306e714ce998d1a3a39c3e6d8fa62c56f
     "metadata": {},
     "output_type": "execute_result"
    }
   ],
   "source": [
    "sales[0]"
   ]
  },
  {
   "cell_type": "markdown",
   "metadata": {},
   "source": [
    "**Discussion:** How might you clean these data to tmake them easier to analyze?"
   ]
  },
  {
   "cell_type": "markdown",
   "metadata": {},
   "source": [
    "## Clean the Sale Prices\n",
    "\n",
    "First, let's convert the sale prices from strings to numbers, so we can do arithmetic with them. For example, we could calculate the average price."
   ]
  },
  {
   "cell_type": "code",
<<<<<<< HEAD
   "execution_count": 28,
=======
   "execution_count": 14,
>>>>>>> 89dfd5a306e714ce998d1a3a39c3e6d8fa62c56f
   "metadata": {},
   "outputs": [],
   "source": [
    "for sale in sales:\n",
    "    # Save the document date to a variable\n",
    "    string_price = sale[\"SalePrice\"]\n",
    "    \n",
    "    # Cast the sale price to int and add it to each dictionary element of sales\n",
    "    sale[\"sale_price\"] = int(string_price)"
   ]
  },
  {
   "cell_type": "code",
<<<<<<< HEAD
   "execution_count": 26,
=======
   "execution_count": 15,
>>>>>>> 89dfd5a306e714ce998d1a3a39c3e6d8fa62c56f
   "metadata": {},
   "outputs": [
    {
     "data": {
      "text/plain": [
       "{'ExciseTaxNbr': '2687551',\n",
       " 'Major': '138860',\n",
       " 'Minor': '110',\n",
       " 'DocumentDate': '08/21/2014',\n",
       " 'SalePrice': '245000',\n",
       " 'RecordingNbr': '20140828001436',\n",
       " 'Volume': '   ',\n",
       " 'Page': '   ',\n",
       " 'PlatNbr': '      ',\n",
       " 'PlatType': ' ',\n",
       " 'PlatLot': '              ',\n",
       " 'PlatBlock': '       ',\n",
       " 'SellerName': 'WENKLE NOEL SMITH -TRUSTEE                        ',\n",
       " 'BuyerName': 'ALEXANDER APRIL                                   ',\n",
       " 'PropertyType': '3',\n",
       " 'PrincipalUse': '6',\n",
       " 'SaleInstrument': '3',\n",
       " 'AFForestLand': 'N',\n",
       " 'AFCurrentUseLand': 'N',\n",
       " 'AFNonProfitUse': 'N',\n",
       " 'AFHistoricProperty': 'N',\n",
       " 'SaleReason': '1',\n",
       " 'PropertyClass': '8',\n",
       " 'SaleWarning': ' ',\n",
       " 'sale_price': 245000}"
      ]
     },
<<<<<<< HEAD
     "execution_count": 26,
=======
     "execution_count": 15,
>>>>>>> 89dfd5a306e714ce998d1a3a39c3e6d8fa62c56f
     "metadata": {},
     "output_type": "execute_result"
    }
   ],
   "source": [
    "sales[0]"
   ]
  },
  {
   "cell_type": "markdown",
   "metadata": {},
   "source": [
    "## Clean the Dates\n",
    "\n",
    "Next we'll clean the dates so that we can easily get the month and year of each sale. "
   ]
  },
  {
   "cell_type": "markdown",
   "metadata": {},
   "source": [
    "### Using Python built-in methods\n",
    "\n",
    "**Activity**: Process the `sales` list to add numeric values for month and year to each entry.\n",
    "\n",
    "<details>\n",
    "    <summary><b><u>Click Here for Answer Code</u></b></summary>\n",
    "    \n",
    "    for sale in sales:\n",
    "        # Save the document date to a variable\n",
    "        string_date = sale[\"DocumentDate\"]\n",
    "        \n",
    "        # Extract the sale year and month from the string, and cast to int\n",
    "        sale_year = int(string_date[6:10])\n",
    "        sale_month = int(string_date[0:2])    \n",
    "    \n",
    "        # Add the sale year and month to each dictionary element of sales\n",
    "        sale[\"sale_year\"] = sale_year\n",
    "        sale[\"sale_month\"] = sale_month\n",
    "</details>"
   ]
  },
  {
   "cell_type": "code",
<<<<<<< HEAD
   "execution_count": 32,
   "metadata": {},
   "outputs": [
    {
     "name": "stdout",
     "output_type": "stream",
     "text": [
      "{'ExciseTaxNbr': '2687551', 'Major': '138860', 'Minor': '110', 'DocumentDate': '08/21/2014', 'SalePrice': '245000', 'RecordingNbr': '20140828001436', 'Volume': '   ', 'Page': '   ', 'PlatNbr': '      ', 'PlatType': ' ', 'PlatLot': '              ', 'PlatBlock': '       ', 'SellerName': 'WENKLE NOEL SMITH -TRUSTEE                        ', 'BuyerName': 'ALEXANDER APRIL                                   ', 'PropertyType': '3', 'PrincipalUse': '6', 'SaleInstrument': '3', 'AFForestLand': 'N', 'AFCurrentUseLand': 'N', 'AFNonProfitUse': 'N', 'AFHistoricProperty': 'N', 'SaleReason': '1', 'PropertyClass': '8', 'SaleWarning': ' ', 'sale_price': 245000}\n"
     ]
    }
   ],
   "source": [
    "print(sales[0])"
=======
   "execution_count": 18,
   "metadata": {},
   "outputs": [
    {
     "data": {
      "text/plain": [
       "[{'ExciseTaxNbr': '2687551',\n",
       "  'Major': '138860',\n",
       "  'Minor': '110',\n",
       "  'DocumentDate': '08/21/2014',\n",
       "  'SalePrice': '245000',\n",
       "  'RecordingNbr': '20140828001436',\n",
       "  'Volume': '   ',\n",
       "  'Page': '   ',\n",
       "  'PlatNbr': '      ',\n",
       "  'PlatType': ' ',\n",
       "  'PlatLot': '              ',\n",
       "  'PlatBlock': '       ',\n",
       "  'SellerName': 'WENKLE NOEL SMITH -TRUSTEE                        ',\n",
       "  'BuyerName': 'ALEXANDER APRIL                                   ',\n",
       "  'PropertyType': '3',\n",
       "  'PrincipalUse': '6',\n",
       "  'SaleInstrument': '3',\n",
       "  'AFForestLand': 'N',\n",
       "  'AFCurrentUseLand': 'N',\n",
       "  'AFNonProfitUse': 'N',\n",
       "  'AFHistoricProperty': 'N',\n",
       "  'SaleReason': '1',\n",
       "  'PropertyClass': '8',\n",
       "  'SaleWarning': ' ',\n",
       "  'sale_price': 245000},\n",
       " {'ExciseTaxNbr': '3080093',\n",
       "  'Major': '82204',\n",
       "  'Minor': '9037',\n",
       "  'DocumentDate': '10/27/2020',\n",
       "  'SalePrice': '0',\n",
       "  'RecordingNbr': '20201102000765',\n",
       "  'Volume': '   ',\n",
       "  'Page': '   ',\n",
       "  'PlatNbr': '      ',\n",
       "  'PlatType': ' ',\n",
       "  'PlatLot': '              ',\n",
       "  'PlatBlock': '       ',\n",
       "  'SellerName': 'BALA RAJNI                                        ',\n",
       "  'BuyerName': 'SINGH JOGA+BALA RAJNI                             ',\n",
       "  'PropertyType': '11',\n",
       "  'PrincipalUse': '6',\n",
       "  'SaleInstrument': '15',\n",
       "  'AFForestLand': 'N',\n",
       "  'AFCurrentUseLand': 'N',\n",
       "  'AFNonProfitUse': 'N',\n",
       "  'AFHistoricProperty': 'N',\n",
       "  'SaleReason': '18',\n",
       "  'PropertyClass': '8',\n",
       "  'SaleWarning': '18 51',\n",
       "  'sale_price': 0}]"
      ]
     },
     "execution_count": 18,
     "metadata": {},
     "output_type": "execute_result"
    }
   ],
   "source": [
    "sales[:2]"
>>>>>>> 89dfd5a306e714ce998d1a3a39c3e6d8fa62c56f
   ]
  },
  {
   "cell_type": "code",
<<<<<<< HEAD
   "execution_count": 35,
=======
   "execution_count": 25,
   "metadata": {},
   "outputs": [
    {
     "data": {
      "text/plain": [
       "'08/21/2014'"
      ]
     },
     "execution_count": 25,
     "metadata": {},
     "output_type": "execute_result"
    }
   ],
   "source": [
    "sales[0][\"DocumentDate\"][-4:]\n",
    "sales[0][\"DocumentDate\"][0:2]\n",
    "sales[0][\"DocumentDate\"]"
   ]
  },
  {
   "cell_type": "code",
   "execution_count": 26,
>>>>>>> 89dfd5a306e714ce998d1a3a39c3e6d8fa62c56f
   "metadata": {},
   "outputs": [],
   "source": [
    "## Your work here\n",
    "for sale in sales:\n",
<<<<<<< HEAD
    "    # Save the document date to a variable\n",
    "    string_date = sale[\"DocumentDate\"]\n",
    "    \n",
    "    # Extract the sale year and month from the string, and cast to int\n",
    "    sale_year = int(string_date[6:10])\n",
    "    sale_month = int(string_date[0:2])    \n",
    "\n",
    "    # Add the sale year and month to each dictionary element of sales\n",
    "    sale[\"sale_year\"] = sale_year\n",
    "    sale[\"sale_month\"] = sale_month"
=======
    "        # Save the document date to a variable\n",
    "        string_date = sale[\"DocumentDate\"]\n",
    "        \n",
    "        # Extract the sale year and month from the string, and cast to int\n",
    "        sale_year = int(string_date[6:10]) #2014 for first row value\n",
    "        sale_month = int(string_date[0:2]) #08 for the first row value   \n",
    "    \n",
    "        # Add the sale year and month to each dictionary element of sales\n",
    "        # you can easily create a new column in your data assigning some new value to a dict['key'] variable.\n",
    "        sale[\"sale_year\"] = sale_year\n",
    "        sale[\"sale_month\"] = sale_month"
>>>>>>> 89dfd5a306e714ce998d1a3a39c3e6d8fa62c56f
   ]
  },
  {
   "cell_type": "code",
   "execution_count": null,
   "metadata": {},
   "outputs": [],
   "source": [
    "sales[0]"
   ]
  },
  {
   "cell_type": "markdown",
   "metadata": {},
   "source": [
    "# Data Analysis\n",
    "\n",
    "Now that you have a cleaned list with the property sales data, we can finally start to perform some data analysis."
   ]
  },
  {
   "cell_type": "markdown",
   "metadata": {},
   "source": [
    "## Question 1: What is the range of years for which we have sales data?\n",
    "\n",
    "<details>\n",
    "            <summary><b><u>Click Here for Answer Code</u></b></summary>\n",
    "    \n",
    "    sale_years = [sale['sale_year'] for sale in sales]\n",
    "    print(min(sale_years))\n",
    "    print(max(sale_years))\n",
    "</details>"
   ]
  },
  {
   "cell_type": "code",
<<<<<<< HEAD
   "execution_count": 43,
=======
   "execution_count": 28,
>>>>>>> 89dfd5a306e714ce998d1a3a39c3e6d8fa62c56f
   "metadata": {},
   "outputs": [
    {
     "data": {
      "text/plain": [
       "(1958, 2021)"
      ]
     },
<<<<<<< HEAD
     "execution_count": 43,
=======
     "execution_count": 28,
>>>>>>> 89dfd5a306e714ce998d1a3a39c3e6d8fa62c56f
     "metadata": {},
     "output_type": "execute_result"
    }
   ],
   "source": [
    "## Your work here\n",
<<<<<<< HEAD
    "years = []\n",
    "for sale in sales: \n",
    "    years.append(sale[\"sale_year\"])\n",
=======
    "\n",
    "years = []\n",
    "for sale in sales:\n",
    "    years.append(sale[\"sale_year\"])\n",
    "    \n",
>>>>>>> 89dfd5a306e714ce998d1a3a39c3e6d8fa62c56f
    "(min(years), max(years))"
   ]
  },
  {
   "cell_type": "markdown",
   "metadata": {},
   "source": [
    "## Question 2: How many properties sold in 2020?\n",
    "\n",
    "` \n",
    "    sale_years = [sale['sale_year'] for sale in sales]\n",
    "    sale_years_2020 = [year for year in sale_years if year == 2020]\n",
    "    len(sale_years_2020)\n",
    "`"
   ]
  },
  {
   "cell_type": "code",
<<<<<<< HEAD
   "execution_count": 54,
=======
   "execution_count": 30,
>>>>>>> 89dfd5a306e714ce998d1a3a39c3e6d8fa62c56f
   "metadata": {},
   "outputs": [
    {
     "name": "stdout",
     "output_type": "stream",
     "text": [
<<<<<<< HEAD
      "The number of property sales in 2020 is 419\n"
=======
      "the number of property sales in 2020 is 419\n"
>>>>>>> 89dfd5a306e714ce998d1a3a39c3e6d8fa62c56f
     ]
    }
   ],
   "source": [
    "## Your work here\n",
<<<<<<< HEAD
    "num = 0\n",
    "\n",
    "for sale in sales: \n",
    "    if sale[\"sale_year\"] == 2020:\n",
    "        num += 1\n",
    "print(\"The number of property sales in 2020 is\", num)"
=======
    "\n",
    "# find number of unique property records\n",
    "\n",
    "num = 0\n",
    "\n",
    "for sale in sales:\n",
    "    if sale[\"sale_year\"] == 2020:\n",
    "        num +=1\n",
    "print(f\"the number of property sales in 2020 is {num}\")"
>>>>>>> 89dfd5a306e714ce998d1a3a39c3e6d8fa62c56f
   ]
  },
  {
   "cell_type": "markdown",
   "metadata": {},
   "source": [
    "## Question 3: What was the mean sale price in 2020?\n",
    "\n",
    "<details>\n",
    "            <summary><b><u>Click Here for Answer Code</u></b></summary>\n",
    "    \n",
    "    sale_prices_2020 = [sale['sale_price'] for sale in sales if sale['sale_year'] == 2020]\n",
    "    sum(sale_prices_2020)/len(sale_prices_2020)\n",
    "</details>"
   ]
  },
  {
   "cell_type": "code",
<<<<<<< HEAD
   "execution_count": 59,
=======
   "execution_count": 33,
>>>>>>> 89dfd5a306e714ce998d1a3a39c3e6d8fa62c56f
   "metadata": {},
   "outputs": [
    {
     "data": {
      "text/plain": [
       "3575874.61575179"
      ]
     },
<<<<<<< HEAD
     "execution_count": 59,
=======
     "execution_count": 33,
>>>>>>> 89dfd5a306e714ce998d1a3a39c3e6d8fa62c56f
     "metadata": {},
     "output_type": "execute_result"
    }
   ],
   "source": [
    "## Your work here\n",
    "\n",
<<<<<<< HEAD
    "sale_num = 0 \n",
    "total_sale_amount = 0 \n",
    "\n",
    "for sale in sales: \n",
    "    if sale[\"sale_year\"] == 2020:\n",
    "        sale_num  += 1\n",
    "        total_sale_amount += int(sale[\"sale_price\"])\n",
    "        \n",
    "avg = total_sale_amount / sale_num\n",
    "avg"
=======
    "sale_num = 0\n",
    "total_sale_amount= 0\n",
    "\n",
    "for sale in sales:\n",
    "    if sale[\"sale_year\"] == 2020:\n",
    "        sale_num += 1\n",
    "        total_sale_amount += int(sale[\"sale_price\"])\n",
    "\n",
    "average = total_sale_amount/sale_num\n",
    "average\n",
    "        \n",
    "        "
>>>>>>> 89dfd5a306e714ce998d1a3a39c3e6d8fa62c56f
   ]
  },
  {
   "cell_type": "markdown",
   "metadata": {},
   "source": [
    "## Question 4: How many properties sold in each year?\n",
    "\n",
    "<details>\n",
    "            <summary><b><u>Click Here for Answer Code</u></b></summary>\n",
    "   \n",
    "    sale_year_count = []\n",
    "    sale_years = [sale['sale_year'] for sale in sales]\n",
    "    unique_sale_years = set(sale_years)\n",
    "    for unique_year in unique_sale_years:\n",
    "        num_sales = len([year for year in sale_years if year == unique_year])\n",
    "        sale_year_count.append((unique_year, num_sales))\n",
    "        print(unique_year, num_sales)\n",
    "    \n",
    "</details>"
   ]
  },
  {
   "cell_type": "code",
<<<<<<< HEAD
   "execution_count": 60,
=======
   "execution_count": 34,
>>>>>>> 89dfd5a306e714ce998d1a3a39c3e6d8fa62c56f
   "metadata": {},
   "outputs": [
    {
     "name": "stdout",
     "output_type": "stream",
     "text": [
      "1958 1\n",
      "1966 1\n",
      "1974 1\n",
      "1976 1\n",
      "1979 1\n",
      "1981 2\n",
      "1982 32\n",
      "1983 36\n",
      "1984 48\n",
      "1985 44\n",
      "1986 74\n",
      "1987 77\n",
      "1988 66\n",
      "1989 75\n",
      "1990 68\n",
      "1991 81\n",
      "1992 338\n",
      "1993 353\n",
      "1994 267\n",
      "1995 246\n",
      "1996 347\n",
      "1997 306\n",
      "1998 349\n",
      "1999 406\n",
      "2000 279\n",
      "2001 342\n",
      "2002 325\n",
      "2003 380\n",
      "2004 447\n",
      "2005 442\n",
      "2006 389\n",
      "2007 319\n",
      "2008 231\n",
      "2009 264\n",
      "2010 230\n",
      "2011 218\n",
      "2012 364\n",
      "2013 295\n",
      "2014 299\n",
      "2015 376\n",
      "2016 290\n",
      "2017 288\n",
      "2018 281\n",
      "2019 241\n",
      "2020 419\n",
      "2021 61\n"
     ]
    }
   ],
   "source": [
    "## Your work here\n",
<<<<<<< HEAD
    "sale_year_count = []\n",
    "sale_years = [sale['sale_year'] for sale in sales]\n",
    "unique_sale_years = set(sale_years)\n",
    "for unique_year in unique_sale_years:\n",
    "    num_sales = len([year for year in sale_years if year == unique_year])\n",
    "    sale_year_count.append((unique_year, num_sales))\n",
    "    print(unique_year, num_sales)\n"
=======
    "\n",
    "split_sales = {}\n",
    "for sale in sales:\n",
    "    if sale[\"sale_year\"] not in split_sales.keys():\n",
    "        split_sales[sale[\"sale_year\"]] = 1\n",
    "    else:\n",
    "        split_sales[sale[\"sale_year\"]] += 1"
   ]
  },
  {
   "cell_type": "code",
   "execution_count": 36,
   "metadata": {},
   "outputs": [
    {
     "name": "stdout",
     "output_type": "stream",
     "text": [
      "1958 1\n",
      "1966 1\n",
      "1974 1\n",
      "1976 1\n",
      "1979 1\n",
      "1981 2\n",
      "1982 32\n",
      "1983 36\n",
      "1984 48\n",
      "1985 44\n",
      "1986 74\n",
      "1987 77\n",
      "1988 66\n",
      "1989 75\n",
      "1990 68\n",
      "1991 81\n",
      "1992 338\n",
      "1993 353\n",
      "1994 267\n",
      "1995 246\n",
      "1996 347\n",
      "1997 306\n",
      "1998 349\n",
      "1999 406\n",
      "2000 279\n",
      "2001 342\n",
      "2002 325\n",
      "2003 380\n",
      "2004 447\n",
      "2005 442\n",
      "2006 389\n",
      "2007 319\n",
      "2008 231\n",
      "2009 264\n",
      "2010 230\n",
      "2011 218\n",
      "2012 364\n",
      "2013 295\n",
      "2014 299\n",
      "2015 376\n",
      "2016 290\n",
      "2017 288\n",
      "2018 281\n",
      "2019 241\n",
      "2020 419\n",
      "2021 61\n"
     ]
    }
   ],
   "source": [
    "    sale_year_count = []\n",
    "    sale_years = [sale['sale_year'] for sale in sales]\n",
    "    unique_sale_years = set(sale_years)\n",
    "    for unique_year in unique_sale_years:\n",
    "        num_sales = len([year for year in sale_years if year == unique_year])\n",
    "        sale_year_count.append((unique_year, num_sales))\n",
    "        print(unique_year, num_sales)"
   ]
  },
  {
   "cell_type": "code",
   "execution_count": 35,
   "metadata": {},
   "outputs": [
    {
     "data": {
      "text/plain": [
       "{2014: 299,\n",
       " 2020: 419,\n",
       " 1991: 81,\n",
       " 2013: 295,\n",
       " 2019: 241,\n",
       " 1989: 75,\n",
       " 2003: 380,\n",
       " 2001: 342,\n",
       " 1983: 36,\n",
       " 1999: 406,\n",
       " 2006: 389,\n",
       " 1982: 32,\n",
       " 1987: 77,\n",
       " 2017: 288,\n",
       " 2012: 364,\n",
       " 1990: 68,\n",
       " 2009: 264,\n",
       " 2004: 447,\n",
       " 1998: 349,\n",
       " 2008: 231,\n",
       " 2000: 279,\n",
       " 2015: 376,\n",
       " 2007: 319,\n",
       " 2011: 218,\n",
       " 1997: 306,\n",
       " 2005: 442,\n",
       " 1992: 338,\n",
       " 2016: 290,\n",
       " 2021: 61,\n",
       " 1996: 347,\n",
       " 1995: 246,\n",
       " 2010: 230,\n",
       " 1994: 267,\n",
       " 1993: 353,\n",
       " 2002: 325,\n",
       " 2018: 281,\n",
       " 1984: 48,\n",
       " 1986: 74,\n",
       " 1988: 66,\n",
       " 1974: 1,\n",
       " 1985: 44,\n",
       " 1976: 1,\n",
       " 1966: 1,\n",
       " 1981: 2,\n",
       " 1958: 1,\n",
       " 1979: 1}"
      ]
     },
     "execution_count": 35,
     "metadata": {},
     "output_type": "execute_result"
    }
   ],
   "source": [
    "split_sales"
>>>>>>> 89dfd5a306e714ce998d1a3a39c3e6d8fa62c56f
   ]
  },
  {
   "cell_type": "markdown",
   "metadata": {},
   "source": [
    "# Chart the Data"
   ]
  },
  {
   "cell_type": "markdown",
   "metadata": {},
   "source": [
    "This `list` of `tuples` is helpful, but it takes a lot of effort to read it and make sense of the trends - let's visualize the results to make this easier."
   ]
  },
  {
   "cell_type": "code",
<<<<<<< HEAD
   "execution_count": 63,
=======
   "execution_count": 37,
>>>>>>> 89dfd5a306e714ce998d1a3a39c3e6d8fa62c56f
   "metadata": {},
   "outputs": [],
   "source": [
    "from matplotlib import pyplot as plt"
   ]
  },
  {
   "cell_type": "code",
<<<<<<< HEAD
   "execution_count": 64,
=======
   "execution_count": 38,
>>>>>>> 89dfd5a306e714ce998d1a3a39c3e6d8fa62c56f
   "metadata": {},
   "outputs": [
    {
     "data": {
<<<<<<< HEAD
      "image/png": "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",
      "text/plain": [
       "<Figure size 1000x500 with 1 Axes>"
      ]
     },
     "metadata": {},
=======
      "image/png": "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\n",
      "text/plain": [
       "<Figure size 720x360 with 1 Axes>"
      ]
     },
     "metadata": {
      "needs_background": "light"
     },
>>>>>>> 89dfd5a306e714ce998d1a3a39c3e6d8fa62c56f
     "output_type": "display_data"
    }
   ],
   "source": [
    "# create a figure and one plot\n",
    "fig, ax = plt.subplots(nrows=1, ncols=1, figsize=(10, 5))\n",
    "\n",
    "# place data in a bar chart \n",
    "# where the x-axis is each year and \n",
    "# the y-axis is the number of sales per year\n",
    "ax.bar(x=[sale[0] for sale in sale_year_count],\n",
    "       height=[sale[1] for sale in sale_year_count])\n",
    "\n",
    "# set axis labels\n",
    "ax.set_xlabel(\"Year\")\n",
    "ax.set_ylabel(\"Number of property sales\")\n",
    "\n",
    "# give the bar chart a title\n",
    "ax.set_title(\"Property sales in King County, WA (1900 to 2021)\")\n",
    "\n",
    "# display bar chart clearly\n",
    "fig.tight_layout()"
   ]
  },
  {
   "cell_type": "markdown",
   "metadata": {},
   "source": [
    "**Discussion:** What can we learn from this graph?"
   ]
  },
  {
   "cell_type": "markdown",
   "metadata": {},
   "source": [
    "# Level Up: `Counter`\n",
    "\n",
    "The `collections` package has a lot of useful tools for working with Python objects containing multiple elements. You can use the `Counter` class to easily count the number of values in a list.\n",
    "\n",
    "For example, let's say that for all dictionaries in `sales`, we want to count how many property sales occured in each year. "
   ]
  },
  {
   "cell_type": "code",
<<<<<<< HEAD
   "execution_count": 65,
=======
   "execution_count": 39,
>>>>>>> 89dfd5a306e714ce998d1a3a39c3e6d8fa62c56f
   "metadata": {},
   "outputs": [
    {
     "data": {
      "text/plain": [
       "Counter({2014: 299,\n",
       "         2020: 419,\n",
       "         1991: 81,\n",
       "         2013: 295,\n",
       "         2019: 241,\n",
       "         1989: 75,\n",
       "         2003: 380,\n",
       "         2001: 342,\n",
       "         1983: 36,\n",
       "         1999: 406,\n",
       "         2006: 389,\n",
       "         1982: 32,\n",
       "         1987: 77,\n",
       "         2017: 288,\n",
       "         2012: 364,\n",
       "         1990: 68,\n",
       "         2009: 264,\n",
       "         2004: 447,\n",
       "         1998: 349,\n",
       "         2008: 231,\n",
       "         2000: 279,\n",
       "         2015: 376,\n",
       "         2007: 319,\n",
       "         2011: 218,\n",
       "         1997: 306,\n",
       "         2005: 442,\n",
       "         1992: 338,\n",
       "         2016: 290,\n",
       "         2021: 61,\n",
       "         1996: 347,\n",
       "         1995: 246,\n",
       "         2010: 230,\n",
       "         1994: 267,\n",
       "         1993: 353,\n",
       "         2002: 325,\n",
       "         2018: 281,\n",
       "         1984: 48,\n",
       "         1986: 74,\n",
       "         1988: 66,\n",
       "         1974: 1,\n",
       "         1985: 44,\n",
       "         1976: 1,\n",
       "         1966: 1,\n",
       "         1981: 2,\n",
       "         1958: 1,\n",
       "         1979: 1})"
      ]
     },
<<<<<<< HEAD
     "execution_count": 65,
=======
     "execution_count": 39,
>>>>>>> 89dfd5a306e714ce998d1a3a39c3e6d8fa62c56f
     "metadata": {},
     "output_type": "execute_result"
    }
   ],
   "source": [
    "from collections import Counter\n",
    "\n",
<<<<<<< HEAD
    "sale_year_count = Counter([sale['sale_year'] for sale in sales]) #<object/value> for dummy_var> in <iterable>\n",
=======
    "sale_year_count = Counter([sale['sale_year'] for sale in sales]) # <object/value> for <dummy_var> in <iterable>\n",
>>>>>>> 89dfd5a306e714ce998d1a3a39c3e6d8fa62c56f
    "sale_year_count"
   ]
  },
  {
   "cell_type": "markdown",
   "metadata": {},
   "source": [
    "Let's sort these by year. Since the value in `sale_year` is an integer, we can use Python's built-in [`sorted`](https://docs.python.org/3/library/functions.html#sorted) function to transform the `Counter` object into a `list` of `tuples` - `(year, count)` which are sorted in ascending order by year."
   ]
  },
  {
   "cell_type": "code",
<<<<<<< HEAD
   "execution_count": 66,
=======
   "execution_count": 40,
>>>>>>> 89dfd5a306e714ce998d1a3a39c3e6d8fa62c56f
   "metadata": {},
   "outputs": [
    {
     "data": {
      "text/plain": [
       "[(1958, 1),\n",
       " (1966, 1),\n",
       " (1974, 1),\n",
       " (1976, 1),\n",
       " (1979, 1),\n",
       " (1981, 2),\n",
       " (1982, 32),\n",
       " (1983, 36),\n",
       " (1984, 48),\n",
       " (1985, 44),\n",
       " (1986, 74),\n",
       " (1987, 77),\n",
       " (1988, 66),\n",
       " (1989, 75),\n",
       " (1990, 68),\n",
       " (1991, 81),\n",
       " (1992, 338),\n",
       " (1993, 353),\n",
       " (1994, 267),\n",
       " (1995, 246),\n",
       " (1996, 347),\n",
       " (1997, 306),\n",
       " (1998, 349),\n",
       " (1999, 406),\n",
       " (2000, 279),\n",
       " (2001, 342),\n",
       " (2002, 325),\n",
       " (2003, 380),\n",
       " (2004, 447),\n",
       " (2005, 442),\n",
       " (2006, 389),\n",
       " (2007, 319),\n",
       " (2008, 231),\n",
       " (2009, 264),\n",
       " (2010, 230),\n",
       " (2011, 218),\n",
       " (2012, 364),\n",
       " (2013, 295),\n",
       " (2014, 299),\n",
       " (2015, 376),\n",
       " (2016, 290),\n",
       " (2017, 288),\n",
       " (2018, 281),\n",
       " (2019, 241),\n",
       " (2020, 419),\n",
       " (2021, 61)]"
      ]
     },
<<<<<<< HEAD
     "execution_count": 66,
=======
     "execution_count": 40,
>>>>>>> 89dfd5a306e714ce998d1a3a39c3e6d8fa62c56f
     "metadata": {},
     "output_type": "execute_result"
    }
   ],
   "source": [
    "sale_year_count = sorted(sale_year_count.items())\n",
    "sale_year_count"
   ]
  },
  {
   "cell_type": "markdown",
   "metadata": {},
   "source": [
    "# Level Up: Using `datetime`"
   ]
  },
  {
   "cell_type": "markdown",
   "metadata": {},
   "source": [
    "Python has a [`datetime`](https://docs.python.org/3.7/library/datetime.html) package that is the standard tool for handling dates and times. `datetime` objects make it easy to do fun things like subtract dates to calculate how far apart they are."
   ]
  },
  {
   "cell_type": "code",
<<<<<<< HEAD
   "execution_count": 67,
=======
   "execution_count": 41,
>>>>>>> 89dfd5a306e714ce998d1a3a39c3e6d8fa62c56f
   "metadata": {},
   "outputs": [],
   "source": [
    "from datetime import datetime"
   ]
  },
  {
   "cell_type": "code",
<<<<<<< HEAD
   "execution_count": 68,
=======
   "execution_count": 42,
   "metadata": {},
   "outputs": [
    {
     "data": {
      "text/plain": [
       "'03/12/2004'"
      ]
     },
     "execution_count": 42,
     "metadata": {},
     "output_type": "execute_result"
    }
   ],
   "source": [
    "sale[\"DocumentDate\"]"
   ]
  },
  {
   "cell_type": "code",
   "execution_count": 43,
>>>>>>> 89dfd5a306e714ce998d1a3a39c3e6d8fa62c56f
   "metadata": {},
   "outputs": [],
   "source": [
    "for sale in sales:\n",
    "    # Transform DocumentDate from string to datetime\n",
    "    sale[\"clean_date\"] = datetime.strptime(sale[\"DocumentDate\"], \n",
    "                                           \"%m/%d/%Y\")\n",
    "    \n",
    "    # Add the sale year and month to each dictionary element of sales\n",
    "    sale[\"sale_year\"] = sale[\"clean_date\"].year\n",
    "    sale[\"sale_month\"] = sale[\"clean_date\"].month"
   ]
  },
  {
   "cell_type": "markdown",
   "metadata": {},
   "source": [
    "Let's inspect our work"
   ]
  },
  {
   "cell_type": "code",
<<<<<<< HEAD
   "execution_count": 69,
=======
   "execution_count": 44,
>>>>>>> 89dfd5a306e714ce998d1a3a39c3e6d8fa62c56f
   "metadata": {},
   "outputs": [
    {
     "data": {
      "text/plain": [
       "{'ExciseTaxNbr': '2687551',\n",
       " 'Major': '138860',\n",
       " 'Minor': '110',\n",
       " 'DocumentDate': '08/21/2014',\n",
       " 'SalePrice': '245000',\n",
       " 'RecordingNbr': '20140828001436',\n",
       " 'Volume': '   ',\n",
       " 'Page': '   ',\n",
       " 'PlatNbr': '      ',\n",
       " 'PlatType': ' ',\n",
       " 'PlatLot': '              ',\n",
       " 'PlatBlock': '       ',\n",
       " 'SellerName': 'WENKLE NOEL SMITH -TRUSTEE                        ',\n",
       " 'BuyerName': 'ALEXANDER APRIL                                   ',\n",
       " 'PropertyType': '3',\n",
       " 'PrincipalUse': '6',\n",
       " 'SaleInstrument': '3',\n",
       " 'AFForestLand': 'N',\n",
       " 'AFCurrentUseLand': 'N',\n",
       " 'AFNonProfitUse': 'N',\n",
       " 'AFHistoricProperty': 'N',\n",
       " 'SaleReason': '1',\n",
       " 'PropertyClass': '8',\n",
       " 'SaleWarning': ' ',\n",
       " 'sale_price': 245000,\n",
       " 'sale_year': 2014,\n",
       " 'sale_month': 8,\n",
       " 'clean_date': datetime.datetime(2014, 8, 21, 0, 0)}"
      ]
     },
<<<<<<< HEAD
     "execution_count": 69,
=======
     "execution_count": 44,
>>>>>>> 89dfd5a306e714ce998d1a3a39c3e6d8fa62c56f
     "metadata": {},
     "output_type": "execute_result"
    }
   ],
   "source": [
    "sales[0]"
   ]
  },
  {
   "cell_type": "code",
   "execution_count": null,
   "metadata": {},
   "outputs": [],
   "source": []
  }
 ],
 "metadata": {
  "kernelspec": {
   "display_name": "Python 3 (ipykernel)",
   "language": "python",
   "name": "python3"
  },
  "language_info": {
   "codemirror_mode": {
    "name": "ipython",
    "version": 3
   },
   "file_extension": ".py",
   "mimetype": "text/x-python",
   "name": "python",
   "nbconvert_exporter": "python",
   "pygments_lexer": "ipython3",
   "version": "3.11.3"
  },
  "toc": {
   "base_numbering": 1,
   "nav_menu": {},
   "number_sections": true,
   "sideBar": true,
   "skip_h1_title": false,
   "title_cell": "Table of Contents",
   "title_sidebar": "Contents",
   "toc_cell": true,
   "toc_position": {},
   "toc_section_display": true,
   "toc_window_display": false
  }
 },
 "nbformat": 4,
 "nbformat_minor": 4
}
